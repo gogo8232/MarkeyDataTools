{
 "cells": [
  {
   "cell_type": "code",
   "execution_count": 1,
   "metadata": {},
   "outputs": [],
   "source": [
    "# import sys\n",
    "# import os\n",
    "# Save the acs.py file in the same directory where this Rmd or ipynb file is being run.\n",
    "# The following lines will add the current directory into the path\n",
    "# so that it can search the py file in the directory when we try to import\n",
    "# wd = os.getcwd()\n",
    "# sys.path.append(wd)\n",
    "\n",
    "# acs will also import pandas, numpy, re, and requests modules\n",
    "import MarkeyDataTools as mdt\n",
    "\n",
    "# this reload function is just to reload the acs module as I periodically edit and test the module.\n",
    "from importlib import reload"
   ]
  },
  {
   "cell_type": "markdown",
   "metadata": {},
   "source": [
    "## Introduction"
   ]
  },
  {
   "cell_type": "markdown",
   "metadata": {},
   "source": [
    "As a test, I am creating a module that call up a dataset; and as an example I will show you how the functions in the acs.py can work out to execute the same tasks that were done in `acs_computer_broadband` in the Data/ACS folder."
   ]
  },
  {
   "cell_type": "markdown",
   "metadata": {},
   "source": [
    "There were five tables imported separately, but using acs, you can import the variables in one table.   \n",
    "To do so, you need to set values for the following variables:   \n",
    "* year\n",
    "* tablename (in a list)\n",
    "   - For example, if you want to lookup \"B28005\"(all_ind), \"B28009A\"(white), \"B28009H\"(white_nh), \"B28009B\"(black), \"B28009I\"(hisp), set the value for source as \\[\"B28005\", \"B28009A\", \"B28009H\", \"B28009B\", \"B28009I\" \\]\n",
    "* source (the subgroup of acs datagroup)\n",
    "   - In this example, it will be acs1 as ``acs1`` is the annual data.\n",
    "   - Many counties are missing in the acs1 as this is annual; you can find others in the ``acs5``, which is conducted every 5 years.\n",
    "* state: the default value is 'KY', so you don't need to worry about it."
   ]
  },
  {
   "cell_type": "code",
   "execution_count": 2,
   "metadata": {},
   "outputs": [],
   "source": [
    "year = 2019\n",
    "table =  [\"B28005\", \"B28009A\", \"B28009H\", \"B28009B\", \"B28009I\" ]\n",
    "source = 'acs5'"
   ]
  },
  {
   "cell_type": "markdown",
   "metadata": {},
   "source": [
    "## Part I. importing the module and calling the acs class"
   ]
  },
  {
   "cell_type": "markdown",
   "metadata": {},
   "source": [
    "Above, we alreay imported the MarkeyDataTool module by executing `import MarkeyDataTool as mdt`. Now, let's call the `acs` class   \n",
    "To call the `acs` class, you need year, table and source at the very least.   \n",
    "You can also set the region arguement, whose default level is \"**county**\"."
   ]
  },
  {
   "cell_type": "code",
   "execution_count": 3,
   "metadata": {},
   "outputs": [],
   "source": [
    "acs = mdt.acs(year = year, table = table, source = 'acs5')"
   ]
  },
  {
   "cell_type": "markdown",
   "metadata": {},
   "source": [
    "As another example, let's call the acs class with the region argument **\"tract\"**"
   ]
  },
  {
   "cell_type": "code",
   "execution_count": 4,
   "metadata": {},
   "outputs": [],
   "source": [
    "acs_tract = mdt.acs(year = year, table = table, source = 'acs5', region = 'tract')"
   ]
  },
  {
   "cell_type": "markdown",
   "metadata": {},
   "source": [
    "When you just do this, the most important attribute you might want to take a look at is the variable table.   \n",
    "The name of the attribute is `variable_table`. This contains every variables name in the entire acs5 data.   \n",
    "Obviously, the table names are contained in the variable table, but they have extensions such as 001_E, 002_E, etc.   "
   ]
  },
  {
   "cell_type": "code",
   "execution_count": 5,
   "metadata": {},
   "outputs": [
    {
     "data": {
      "text/html": [
       "<div>\n",
       "<style scoped>\n",
       "    .dataframe tbody tr th:only-of-type {\n",
       "        vertical-align: middle;\n",
       "    }\n",
       "\n",
       "    .dataframe tbody tr th {\n",
       "        vertical-align: top;\n",
       "    }\n",
       "\n",
       "    .dataframe thead th {\n",
       "        text-align: right;\n",
       "    }\n",
       "</style>\n",
       "<table border=\"1\" class=\"dataframe\">\n",
       "  <thead>\n",
       "    <tr style=\"text-align: right;\">\n",
       "      <th></th>\n",
       "      <th>name</th>\n",
       "      <th>label</th>\n",
       "      <th>concept</th>\n",
       "    </tr>\n",
       "  </thead>\n",
       "  <tbody>\n",
       "    <tr>\n",
       "      <th>0</th>\n",
       "      <td>for</td>\n",
       "      <td>Census API FIPS 'for' clause</td>\n",
       "      <td>Census API Geography Specification</td>\n",
       "    </tr>\n",
       "    <tr>\n",
       "      <th>1</th>\n",
       "      <td>in</td>\n",
       "      <td>Census API FIPS 'in' clause</td>\n",
       "      <td>Census API Geography Specification</td>\n",
       "    </tr>\n",
       "    <tr>\n",
       "      <th>2</th>\n",
       "      <td>ucgid</td>\n",
       "      <td>Uniform Census Geography Identifier clause</td>\n",
       "      <td>Census API Geography Specification</td>\n",
       "    </tr>\n",
       "    <tr>\n",
       "      <th>3</th>\n",
       "      <td>B24022_060E</td>\n",
       "      <td>Estimate!!Total:!!Female:!!Service occupations:!!Food preparation and serving related occupations</td>\n",
       "      <td>SEX BY OCCUPATION AND MEDIAN EARNINGS IN THE PAST 12 MONTHS (IN 2019 INFLATION-ADJUSTED DOLLARS) FOR THE FULL-TIME, YEAR-ROUND CIVILIAN EMPLOYED POPULATION 16 YEARS AND OVER</td>\n",
       "    </tr>\n",
       "    <tr>\n",
       "      <th>4</th>\n",
       "      <td>B19001B_014E</td>\n",
       "      <td>Estimate!!Total:!!$100,000 to $124,999</td>\n",
       "      <td>HOUSEHOLD INCOME IN THE PAST 12 MONTHS (IN 2019 INFLATION-ADJUSTED DOLLARS) (BLACK OR AFRICAN AMERICAN ALONE HOUSEHOLDER)</td>\n",
       "    </tr>\n",
       "  </tbody>\n",
       "</table>\n",
       "</div>"
      ],
      "text/plain": [
       "           name  \\\n",
       "0  for            \n",
       "1  in             \n",
       "2  ucgid          \n",
       "3  B24022_060E    \n",
       "4  B19001B_014E   \n",
       "\n",
       "                                                                                               label  \\\n",
       "0  Census API FIPS 'for' clause                                                                        \n",
       "1  Census API FIPS 'in' clause                                                                         \n",
       "2  Uniform Census Geography Identifier clause                                                          \n",
       "3  Estimate!!Total:!!Female:!!Service occupations:!!Food preparation and serving related occupations   \n",
       "4  Estimate!!Total:!!$100,000 to $124,999                                                              \n",
       "\n",
       "                                                                                                                                                                         concept  \n",
       "0  Census API Geography Specification                                                                                                                                             \n",
       "1  Census API Geography Specification                                                                                                                                             \n",
       "2  Census API Geography Specification                                                                                                                                             \n",
       "3  SEX BY OCCUPATION AND MEDIAN EARNINGS IN THE PAST 12 MONTHS (IN 2019 INFLATION-ADJUSTED DOLLARS) FOR THE FULL-TIME, YEAR-ROUND CIVILIAN EMPLOYED POPULATION 16 YEARS AND OVER  \n",
       "4  HOUSEHOLD INCOME IN THE PAST 12 MONTHS (IN 2019 INFLATION-ADJUSTED DOLLARS) (BLACK OR AFRICAN AMERICAN ALONE HOUSEHOLDER)                                                      "
      ]
     },
     "execution_count": 5,
     "metadata": {},
     "output_type": "execute_result"
    }
   ],
   "source": [
    "acs.variable_table.head()"
   ]
  },
  {
   "cell_type": "markdown",
   "metadata": {},
   "source": [
    "You don't need to check `acs_tract.variable_table` because you will get the same table as long as having the same value for the **source** argument"
   ]
  },
  {
   "cell_type": "markdown",
   "metadata": {},
   "source": [
    "### Part II. Pulling the acs date"
   ]
  },
  {
   "cell_type": "markdown",
   "metadata": {},
   "source": [
    "Using the attribute function, **`gen_dataframe()`**, you will get the data you wanted.     \n",
    "This will be stored in the object `acs`, so you can use other functions to tidy and wrangle data for your needs."
   ]
  },
  {
   "cell_type": "code",
   "execution_count": 6,
   "metadata": {},
   "outputs": [
    {
     "data": {
      "text/html": [
       "<div>\n",
       "<style scoped>\n",
       "    .dataframe tbody tr th:only-of-type {\n",
       "        vertical-align: middle;\n",
       "    }\n",
       "\n",
       "    .dataframe tbody tr th {\n",
       "        vertical-align: top;\n",
       "    }\n",
       "\n",
       "    .dataframe thead th {\n",
       "        text-align: right;\n",
       "    }\n",
       "</style>\n",
       "<table border=\"1\" class=\"dataframe\">\n",
       "  <thead>\n",
       "    <tr style=\"text-align: right;\">\n",
       "      <th></th>\n",
       "      <th>FIPS</th>\n",
       "      <th>County</th>\n",
       "      <th>State</th>\n",
       "      <th>B28005_012E</th>\n",
       "      <th>B28005_011E</th>\n",
       "      <th>B28005_010E</th>\n",
       "      <th>B28005_016E</th>\n",
       "      <th>B28005_015E</th>\n",
       "      <th>B28005_014E</th>\n",
       "      <th>B28005_013E</th>\n",
       "      <th>...</th>\n",
       "      <th>B28009B_005E</th>\n",
       "      <th>B28009B_001E</th>\n",
       "      <th>B28009B_002E</th>\n",
       "      <th>B28009B_006E</th>\n",
       "      <th>B28009I_002E</th>\n",
       "      <th>B28009I_001E</th>\n",
       "      <th>B28009I_004E</th>\n",
       "      <th>B28009I_003E</th>\n",
       "      <th>B28009I_006E</th>\n",
       "      <th>B28009I_005E</th>\n",
       "    </tr>\n",
       "  </thead>\n",
       "  <tbody>\n",
       "    <tr>\n",
       "      <th>0</th>\n",
       "      <td>21079</td>\n",
       "      <td>Garrard County</td>\n",
       "      <td>Kentucky</td>\n",
       "      <td>724</td>\n",
       "      <td>8931</td>\n",
       "      <td>149</td>\n",
       "      <td>16</td>\n",
       "      <td>2191</td>\n",
       "      <td>3021</td>\n",
       "      <td>577</td>\n",
       "      <td>...</td>\n",
       "      <td>87</td>\n",
       "      <td>321</td>\n",
       "      <td>255</td>\n",
       "      <td>66</td>\n",
       "      <td>222</td>\n",
       "      <td>387</td>\n",
       "      <td>118</td>\n",
       "      <td>0</td>\n",
       "      <td>165</td>\n",
       "      <td>104</td>\n",
       "    </tr>\n",
       "    <tr>\n",
       "      <th>1</th>\n",
       "      <td>21037</td>\n",
       "      <td>Campbell County</td>\n",
       "      <td>Kentucky</td>\n",
       "      <td>4114</td>\n",
       "      <td>49138</td>\n",
       "      <td>823</td>\n",
       "      <td>123</td>\n",
       "      <td>10573</td>\n",
       "      <td>13480</td>\n",
       "      <td>2137</td>\n",
       "      <td>...</td>\n",
       "      <td>653</td>\n",
       "      <td>2416</td>\n",
       "      <td>2243</td>\n",
       "      <td>173</td>\n",
       "      <td>1776</td>\n",
       "      <td>1866</td>\n",
       "      <td>1468</td>\n",
       "      <td>0</td>\n",
       "      <td>90</td>\n",
       "      <td>308</td>\n",
       "    </tr>\n",
       "    <tr>\n",
       "      <th>2</th>\n",
       "      <td>21063</td>\n",
       "      <td>Elliott County</td>\n",
       "      <td>Kentucky</td>\n",
       "      <td>130</td>\n",
       "      <td>2734</td>\n",
       "      <td>0</td>\n",
       "      <td>0</td>\n",
       "      <td>730</td>\n",
       "      <td>1330</td>\n",
       "      <td>396</td>\n",
       "      <td>...</td>\n",
       "      <td>0</td>\n",
       "      <td>0</td>\n",
       "      <td>0</td>\n",
       "      <td>0</td>\n",
       "      <td>6</td>\n",
       "      <td>23</td>\n",
       "      <td>6</td>\n",
       "      <td>0</td>\n",
       "      <td>17</td>\n",
       "      <td>0</td>\n",
       "    </tr>\n",
       "    <tr>\n",
       "      <th>3</th>\n",
       "      <td>21123</td>\n",
       "      <td>Larue County</td>\n",
       "      <td>Kentucky</td>\n",
       "      <td>1225</td>\n",
       "      <td>6658</td>\n",
       "      <td>13</td>\n",
       "      <td>4</td>\n",
       "      <td>1623</td>\n",
       "      <td>2309</td>\n",
       "      <td>538</td>\n",
       "      <td>...</td>\n",
       "      <td>0</td>\n",
       "      <td>478</td>\n",
       "      <td>350</td>\n",
       "      <td>128</td>\n",
       "      <td>351</td>\n",
       "      <td>449</td>\n",
       "      <td>74</td>\n",
       "      <td>0</td>\n",
       "      <td>98</td>\n",
       "      <td>277</td>\n",
       "    </tr>\n",
       "    <tr>\n",
       "      <th>4</th>\n",
       "      <td>21167</td>\n",
       "      <td>Mercer County</td>\n",
       "      <td>Kentucky</td>\n",
       "      <td>998</td>\n",
       "      <td>10650</td>\n",
       "      <td>0</td>\n",
       "      <td>13</td>\n",
       "      <td>2680</td>\n",
       "      <td>3864</td>\n",
       "      <td>1154</td>\n",
       "      <td>...</td>\n",
       "      <td>51</td>\n",
       "      <td>905</td>\n",
       "      <td>583</td>\n",
       "      <td>322</td>\n",
       "      <td>636</td>\n",
       "      <td>636</td>\n",
       "      <td>619</td>\n",
       "      <td>0</td>\n",
       "      <td>0</td>\n",
       "      <td>17</td>\n",
       "    </tr>\n",
       "  </tbody>\n",
       "</table>\n",
       "<p>5 rows × 46 columns</p>\n",
       "</div>"
      ],
      "text/plain": [
       "    FIPS           County      State B28005_012E B28005_011E B28005_010E  \\\n",
       "0  21079  Garrard County    Kentucky  724         8931        149          \n",
       "1  21037  Campbell County   Kentucky  4114        49138       823          \n",
       "2  21063  Elliott County    Kentucky  130         2734        0            \n",
       "3  21123  Larue County      Kentucky  1225        6658        13           \n",
       "4  21167  Mercer County     Kentucky  998         10650       0            \n",
       "\n",
       "  B28005_016E B28005_015E B28005_014E B28005_013E  ... B28009B_005E  \\\n",
       "0  16          2191        3021        577         ...  87            \n",
       "1  123         10573       13480       2137        ...  653           \n",
       "2  0           730         1330        396         ...  0             \n",
       "3  4           1623        2309        538         ...  0             \n",
       "4  13          2680        3864        1154        ...  51            \n",
       "\n",
       "  B28009B_001E B28009B_002E B28009B_006E B28009I_002E B28009I_001E  \\\n",
       "0  321          255          66           222          387           \n",
       "1  2416         2243         173          1776         1866          \n",
       "2  0            0            0            6            23            \n",
       "3  478          350          128          351          449           \n",
       "4  905          583          322          636          636           \n",
       "\n",
       "  B28009I_004E B28009I_003E B28009I_006E B28009I_005E  \n",
       "0  118          0            165          104          \n",
       "1  1468         0            90           308          \n",
       "2  6            0            17           0            \n",
       "3  74           0            98           277          \n",
       "4  619          0            0            17           \n",
       "\n",
       "[5 rows x 46 columns]"
      ]
     },
     "execution_count": 6,
     "metadata": {},
     "output_type": "execute_result"
    }
   ],
   "source": [
    "acs.gen_dataframe().head()"
   ]
  },
  {
   "cell_type": "markdown",
   "metadata": {},
   "source": [
    "As you see, you have the county names and their FIPS numbers in the first columns.   \n",
    "Now, let's see how it looks like when the geographical level is at **'tract'**"
   ]
  },
  {
   "cell_type": "code",
   "execution_count": 7,
   "metadata": {},
   "outputs": [
    {
     "data": {
      "text/html": [
       "<div>\n",
       "<style scoped>\n",
       "    .dataframe tbody tr th:only-of-type {\n",
       "        vertical-align: middle;\n",
       "    }\n",
       "\n",
       "    .dataframe tbody tr th {\n",
       "        vertical-align: top;\n",
       "    }\n",
       "\n",
       "    .dataframe thead th {\n",
       "        text-align: right;\n",
       "    }\n",
       "</style>\n",
       "<table border=\"1\" class=\"dataframe\">\n",
       "  <thead>\n",
       "    <tr style=\"text-align: right;\">\n",
       "      <th></th>\n",
       "      <th>FIPS</th>\n",
       "      <th>Tract</th>\n",
       "      <th>County</th>\n",
       "      <th>State</th>\n",
       "      <th>B28005_012E</th>\n",
       "      <th>B28005_011E</th>\n",
       "      <th>B28005_010E</th>\n",
       "      <th>B28005_016E</th>\n",
       "      <th>B28005_015E</th>\n",
       "      <th>B28005_014E</th>\n",
       "      <th>...</th>\n",
       "      <th>B28009B_005E</th>\n",
       "      <th>B28009B_001E</th>\n",
       "      <th>B28009B_002E</th>\n",
       "      <th>B28009B_006E</th>\n",
       "      <th>B28009I_002E</th>\n",
       "      <th>B28009I_001E</th>\n",
       "      <th>B28009I_004E</th>\n",
       "      <th>B28009I_003E</th>\n",
       "      <th>B28009I_006E</th>\n",
       "      <th>B28009I_005E</th>\n",
       "    </tr>\n",
       "  </thead>\n",
       "  <tbody>\n",
       "    <tr>\n",
       "      <th>0</th>\n",
       "      <td>21005950201</td>\n",
       "      <td>Census Tract 9502.01</td>\n",
       "      <td>Anderson County</td>\n",
       "      <td>Kentucky</td>\n",
       "      <td>459</td>\n",
       "      <td>2583</td>\n",
       "      <td>0</td>\n",
       "      <td>0</td>\n",
       "      <td>584</td>\n",
       "      <td>896</td>\n",
       "      <td>...</td>\n",
       "      <td>0</td>\n",
       "      <td>356</td>\n",
       "      <td>312</td>\n",
       "      <td>44</td>\n",
       "      <td>0</td>\n",
       "      <td>0</td>\n",
       "      <td>0</td>\n",
       "      <td>0</td>\n",
       "      <td>0</td>\n",
       "      <td>0</td>\n",
       "    </tr>\n",
       "    <tr>\n",
       "      <th>1</th>\n",
       "      <td>21005950202</td>\n",
       "      <td>Census Tract 9502.02</td>\n",
       "      <td>Anderson County</td>\n",
       "      <td>Kentucky</td>\n",
       "      <td>187</td>\n",
       "      <td>2052</td>\n",
       "      <td>0</td>\n",
       "      <td>15</td>\n",
       "      <td>379</td>\n",
       "      <td>572</td>\n",
       "      <td>...</td>\n",
       "      <td>0</td>\n",
       "      <td>0</td>\n",
       "      <td>0</td>\n",
       "      <td>0</td>\n",
       "      <td>149</td>\n",
       "      <td>149</td>\n",
       "      <td>80</td>\n",
       "      <td>0</td>\n",
       "      <td>0</td>\n",
       "      <td>69</td>\n",
       "    </tr>\n",
       "    <tr>\n",
       "      <th>2</th>\n",
       "      <td>21013961100</td>\n",
       "      <td>Census Tract 9611</td>\n",
       "      <td>Bell County</td>\n",
       "      <td>Kentucky</td>\n",
       "      <td>83</td>\n",
       "      <td>1430</td>\n",
       "      <td>0</td>\n",
       "      <td>0</td>\n",
       "      <td>212</td>\n",
       "      <td>446</td>\n",
       "      <td>...</td>\n",
       "      <td>0</td>\n",
       "      <td>0</td>\n",
       "      <td>0</td>\n",
       "      <td>0</td>\n",
       "      <td>0</td>\n",
       "      <td>0</td>\n",
       "      <td>0</td>\n",
       "      <td>0</td>\n",
       "      <td>0</td>\n",
       "      <td>0</td>\n",
       "    </tr>\n",
       "    <tr>\n",
       "      <th>3</th>\n",
       "      <td>21015070311</td>\n",
       "      <td>Census Tract 703.11</td>\n",
       "      <td>Boone County</td>\n",
       "      <td>Kentucky</td>\n",
       "      <td>17</td>\n",
       "      <td>1464</td>\n",
       "      <td>7</td>\n",
       "      <td>15</td>\n",
       "      <td>323</td>\n",
       "      <td>452</td>\n",
       "      <td>...</td>\n",
       "      <td>0</td>\n",
       "      <td>165</td>\n",
       "      <td>165</td>\n",
       "      <td>0</td>\n",
       "      <td>35</td>\n",
       "      <td>35</td>\n",
       "      <td>35</td>\n",
       "      <td>0</td>\n",
       "      <td>0</td>\n",
       "      <td>0</td>\n",
       "    </tr>\n",
       "    <tr>\n",
       "      <th>4</th>\n",
       "      <td>21015070312</td>\n",
       "      <td>Census Tract 703.12</td>\n",
       "      <td>Boone County</td>\n",
       "      <td>Kentucky</td>\n",
       "      <td>118</td>\n",
       "      <td>1733</td>\n",
       "      <td>0</td>\n",
       "      <td>16</td>\n",
       "      <td>296</td>\n",
       "      <td>598</td>\n",
       "      <td>...</td>\n",
       "      <td>187</td>\n",
       "      <td>240</td>\n",
       "      <td>240</td>\n",
       "      <td>0</td>\n",
       "      <td>92</td>\n",
       "      <td>92</td>\n",
       "      <td>92</td>\n",
       "      <td>0</td>\n",
       "      <td>0</td>\n",
       "      <td>0</td>\n",
       "    </tr>\n",
       "  </tbody>\n",
       "</table>\n",
       "<p>5 rows × 47 columns</p>\n",
       "</div>"
      ],
      "text/plain": [
       "          FIPS                 Tract            County      State B28005_012E  \\\n",
       "0  21005950201  Census Tract 9502.01   Anderson County   Kentucky  459          \n",
       "1  21005950202  Census Tract 9502.02   Anderson County   Kentucky  187          \n",
       "2  21013961100  Census Tract 9611      Bell County       Kentucky  83           \n",
       "3  21015070311  Census Tract 703.11    Boone County      Kentucky  17           \n",
       "4  21015070312  Census Tract 703.12    Boone County      Kentucky  118          \n",
       "\n",
       "  B28005_011E B28005_010E B28005_016E B28005_015E B28005_014E  ...  \\\n",
       "0  2583        0           0           584         896         ...   \n",
       "1  2052        0           15          379         572         ...   \n",
       "2  1430        0           0           212         446         ...   \n",
       "3  1464        7           15          323         452         ...   \n",
       "4  1733        0           16          296         598         ...   \n",
       "\n",
       "  B28009B_005E B28009B_001E B28009B_002E B28009B_006E B28009I_002E  \\\n",
       "0  0            356          312          44           0             \n",
       "1  0            0            0            0            149           \n",
       "2  0            0            0            0            0             \n",
       "3  0            165          165          0            35            \n",
       "4  187          240          240          0            92            \n",
       "\n",
       "  B28009I_001E B28009I_004E B28009I_003E B28009I_006E B28009I_005E  \n",
       "0  0            0            0            0            0            \n",
       "1  149          80           0            0            69           \n",
       "2  0            0            0            0            0            \n",
       "3  35           35           0            0            0            \n",
       "4  92           92           0            0            0            \n",
       "\n",
       "[5 rows x 47 columns]"
      ]
     },
     "execution_count": 7,
     "metadata": {},
     "output_type": "execute_result"
    }
   ],
   "source": [
    "acs_tract.gen_dataframe().head()"
   ]
  },
  {
   "cell_type": "markdown",
   "metadata": {},
   "source": [
    "## Part III. Defining a variable by grouping variables (Transformation)"
   ]
  },
  {
   "cell_type": "markdown",
   "metadata": {},
   "source": [
    "<font color = red size = 6> <b> <center> To be continued </center> </b>   </font>"
   ]
  },
  {
   "cell_type": "markdown",
   "metadata": {},
   "source": [
    "## Part IV. Searching the tables and variables"
   ]
  },
  {
   "cell_type": "markdown",
   "metadata": {},
   "source": [
    "To search a varialbe by keyword, you can use `search` attribute. If you have already used the function `gen_dataframe`, you do not need additional arguments. If you did not, you would need to give an integer for the year value.   \n",
    "Also, if you want to save the search result as a file, then the argument for `savefile`, whose default value is *False*, should now be *`True`* and you should give a `filename`. If you forgot the filename, don't worry, it will ask you once again."
   ]
  },
  {
   "cell_type": "code",
   "execution_count": 8,
   "metadata": {},
   "outputs": [
    {
     "name": "stdin",
     "output_type": "stream",
     "text": [
      "Please enter the filename:  test.csv\n"
     ]
    }
   ],
   "source": [
    "acs.search('poverty,heath', savefile = True)"
   ]
  },
  {
   "cell_type": "markdown",
   "metadata": {},
   "source": [
    "In the example above, comma (`,`) indicates **OR** operator. Therefore, you are searching the cases where description contains words proverty or health. I might improve the serach engine by including various seach opearators like **AND**, but for now, **OR** is the only option. However, if you know `regex`, you can also use the `search` function with the regex. Below is the example."
   ]
  },
  {
   "cell_type": "code",
   "execution_count": 9,
   "metadata": {},
   "outputs": [
    {
     "data": {
      "text/html": [
       "<div>\n",
       "<style scoped>\n",
       "    .dataframe tbody tr th:only-of-type {\n",
       "        vertical-align: middle;\n",
       "    }\n",
       "\n",
       "    .dataframe tbody tr th {\n",
       "        vertical-align: top;\n",
       "    }\n",
       "\n",
       "    .dataframe thead th {\n",
       "        text-align: right;\n",
       "    }\n",
       "</style>\n",
       "<table border=\"1\" class=\"dataframe\">\n",
       "  <thead>\n",
       "    <tr style=\"text-align: right;\">\n",
       "      <th></th>\n",
       "      <th>index</th>\n",
       "      <th>name</th>\n",
       "      <th>description</th>\n",
       "      <th>source</th>\n",
       "    </tr>\n",
       "  </thead>\n",
       "  <tbody>\n",
       "    <tr>\n",
       "      <th>0</th>\n",
       "      <td>106</td>\n",
       "      <td>B27022</td>\n",
       "      <td>HEALTH INSURANCE COVERAGE STATUS BY SEX BY ENROLLMENT STATUS FOR YOUNG ADULTS AGED 19 TO 25</td>\n",
       "      <td>acs5</td>\n",
       "    </tr>\n",
       "    <tr>\n",
       "      <th>1</th>\n",
       "      <td>335</td>\n",
       "      <td>B27001</td>\n",
       "      <td>HEALTH INSURANCE COVERAGE STATUS BY SEX BY AGE</td>\n",
       "      <td>acs5</td>\n",
       "    </tr>\n",
       "  </tbody>\n",
       "</table>\n",
       "</div>"
      ],
      "text/plain": [
       "   index    name  \\\n",
       "0  106    B27022   \n",
       "1  335    B27001   \n",
       "\n",
       "                                                                                   description  \\\n",
       "0  HEALTH INSURANCE COVERAGE STATUS BY SEX BY ENROLLMENT STATUS FOR YOUNG ADULTS AGED 19 TO 25   \n",
       "1  HEALTH INSURANCE COVERAGE STATUS BY SEX BY AGE                                                \n",
       "\n",
       "  source  \n",
       "0  acs5   \n",
       "1  acs5   "
      ]
     },
     "execution_count": 9,
     "metadata": {},
     "output_type": "execute_result"
    }
   ],
   "source": [
    "import re\n",
    "pattern = re.compile('(?=health insurance)(?=.*sex)(?=.*age)', flags = re.I)\n",
    "acs.search(pattern)"
   ]
  },
  {
   "cell_type": "markdown",
   "metadata": {},
   "source": [
    "In this example, I searched cases where description contains words `health insurance`, `sex`, and `age`. **`flags = re.I`** lets this search engine to ignore the case of the letters. For more information on regex and its operations, please visit [regex tutorial](https://www.w3schools.com/python/python_regex.asp)"
   ]
  },
  {
   "cell_type": "markdown",
   "metadata": {},
   "source": [
    "## Part V. Automate periodical updates"
   ]
  },
  {
   "cell_type": "code",
   "execution_count": null,
   "metadata": {},
   "outputs": [],
   "source": []
  }
 ],
 "metadata": {
  "kernelspec": {
   "display_name": "Python 3",
   "language": "python",
   "name": "python3"
  },
  "language_info": {
   "codemirror_mode": {
    "name": "ipython",
    "version": 3
   },
   "file_extension": ".py",
   "mimetype": "text/x-python",
   "name": "python",
   "nbconvert_exporter": "python",
   "pygments_lexer": "ipython3",
   "version": "3.8.5"
  }
 },
 "nbformat": 4,
 "nbformat_minor": 4
}
